{
  "nbformat": 4,
  "nbformat_minor": 0,
  "metadata": {
    "colab": {
      "provenance": []
    },
    "kernelspec": {
      "name": "python3",
      "display_name": "Python 3"
    },
    "language_info": {
      "name": "python"
    }
  },
  "cells": [
    {
      "cell_type": "markdown",
      "source": [
        "Theoritcal questions."
      ],
      "metadata": {
        "id": "r0s7bDyLhOpW"
      }
    },
    {
      "cell_type": "markdown",
      "source": [
        "1.What is Object-Oriented Programming (OOP)?\n",
        "- OOPS is an programming paradigm that uses objects and classes to structure the code.It focuses on data encapsulation, inheritence and polymorphism\n",
        "\n",
        "\n",
        "2.What is a class in OOP?\n",
        "- Classes are blueprints for creating objects, defining properitites and behaviour that the objects will have.\n",
        "\n",
        "ex : We all are objects of class Human beings\n",
        "\n",
        "3.3What is an object in OOP?\n",
        "- Object is an instance of a class with its own state and behavior .\n",
        "\n",
        "ex : my_dog = DOG() (creating objects for class Dog)\n",
        "\n",
        "4.What is the difference between abstraction and encapsulation?\n",
        "- Abstraction hides complex implementation details, while encapsulation bundles data and methods into a single unit (class).\n",
        "\n",
        "ex: A car dashboard (abstraction) hides the engine complexity (encapsulation).\n",
        "\n",
        "5.What are dunder methods in Python?\n",
        "- Dunder methods are special methods in Python with double underscores, providing functionality for operators and built-in functions.\n",
        "ex: __init__ initializes an object.\n",
        "\n",
        "6.Explain the concept of inheritance in OOP?\n",
        "- Inheritance allows a class to inherit attributes and methods from another class.\n",
        "Example: class Dog(Animal): makes Dog inherit from Animal.\n",
        "\n",
        "7.What is polymorphism in OOP?\n",
        "- Polymorphism allows objects of different classes to be treated as objects of a common superclass, often leading to method overriding.\n",
        "Example: Both cat.speak() and dog.speak() can call the same method in different ways.\n",
        "\n",
        "8.How is encapsulation achieved in Python?\n",
        "- Encapsulation in Python is achieved by using private variables and methods (prefixing with _ or __).\n",
        "Example: self.__balance makes a variable private.\n",
        "\n",
        "9.What is a constructor in Python?\n",
        "- A constructor (__init__) is a special method that initializes a newly created object.\n",
        "Example: def __init__(self, name): self.name = name.\n",
        "\n",
        "10.What are class and static methods in Python?\n",
        "- Class methods take cls as the first parameter, while static methods don’t take any specific object reference.\n",
        "Example: @classmethod\n",
        "def greet(cls):\n",
        "\n",
        " @staticmethod\n",
        " def add(a, b):\n",
        "\n",
        "11.What is method overloading in Python?\n",
        "- Method overloading refers to defining multiple methods with the same name but different signatures (not directly supported in Python).\n",
        "Example: Use default arguments to simulate overloading.\n",
        "\n",
        "12.What is method overriding in OOP?\n",
        "- Method overriding is when a subclass provides its specific implementation of a method already defined in its superclass.\n",
        "Example: def speak(self):\n",
        "return \"Woof\"\n",
        "overrides Animal.speak().\n",
        "\n",
        "13.What is a property decorator in Python?\n",
        "- The @property decorator allows a method to be accessed like an attribute.\n",
        "Example:\n",
        "\n",
        "@property  \n",
        "def age(self):\n",
        "return self._age\n",
        "\n",
        "14.Why is polymorphism important in OOP?\n",
        "- Polymorphism promotes flexibility and reusability, allowing different classes to provide specific implementations of the same method.\n",
        "Example: Different animal sounds via speak().\n",
        "\n",
        "15.What is an abstract class in Python?\n",
        "- An abstract class cannot be instantiated and may contain abstract methods that must be implemented by subclasses.\n",
        "Example: ABC module provides the ABC class and @abstractmethod decorator.\n",
        "\n",
        "16.What are the advantages of OOP?\n",
        "-OOP improves code organization, reusability, scalability, and maintainability.\n",
        "Example: Code is easier to extend and maintain with inheritance.\n",
        "\n",
        "17.What is the difference between a class variable and an instance variable?\n",
        "- Class variables are shared across all instances, while instance variables are specific to each object.\n",
        "Example: class Dog: has self.breed (instance) and Dog.species (class).\n",
        "\n",
        "18.What is multiple inheritance in Python?\n",
        "- Multiple inheritance allows a class to inherit from more than one parent class.\n",
        "Example: class Dog(Animal, Mammal):\n",
        "\n",
        "19.Explain the purpose of __str__ and __repr__ methods in Python?\n",
        "- __str__ is used to return a user-friendly string, while __repr__ is meant to return a string that represents the object in code.\n",
        "Example:\n",
        "\n",
        "def __str__(self): return \"Dog object\"  \n",
        "def __repr__(self): return \"Dog(name='Max')\"\n",
        "\n",
        "20.What is the significance of the super() function in Python?\n",
        "- super() is used to call a method from a parent class, useful in method overriding and initialization.\n",
        "Example: super().__init__() in subclass constructors.\n",
        "\n",
        "21.What is the significance of the __del__ method in Python?\n",
        "- __del__ is called when an object is about to be destroyed, useful for resource cleanup.\n",
        "Example: closing a file when an object is deleted.\n",
        "\n",
        "22.What is the difference between @staticmethod and @classmethod in Python?\n",
        "- @staticmethod has no first agrument while @classmethod takes cls as the first argument.\n",
        "@staticmethod cannot access/modify class or instance attributes. While @classmethod can access or modify class level attributes\n",
        "\n",
        "Example:\n",
        "\n",
        "@staticmethod\n",
        "def add(a, b):  \n",
        "@classmethod\n",
        "def set_class_variable(cls):\n",
        "\n",
        "23.How does polymorphism work in Python with inheritance?\n",
        "- Polymorphism allows methods in subclasses to have the same name but different behavior.\n",
        "Example: Both cat.speak() and dog.speak() behave differently despite the same method name.\n",
        "\n",
        "24.What is method chaining in Python OOP?\n",
        "- Method chaining is calling multiple methods on the same object in a single statement.\n",
        "Example: obj.method1().method2().method3()\n",
        "\n",
        "25.What is the purpose of the __call__ method in Python?\n",
        "- The __call__ method allows an object to be called like a function.\n",
        "Example:\n",
        "\n",
        "def __call__(self, x):\n",
        "return x * 2  \n",
        "\n",
        "obj = MyClass()  \n",
        "print(obj(5))  # Output: 10"
      ],
      "metadata": {
        "id": "oT0KCEvUMtWn"
      }
    },
    {
      "cell_type": "markdown",
      "source": [
        "1. Create a parent class Animal with a method speak() that prints a generic message. Create a child class Dog\n",
        "that overrides the speak() method to print \"Bark!\"."
      ],
      "metadata": {
        "id": "BhssfE54Mwtc"
      }
    },
    {
      "cell_type": "code",
      "execution_count": 1,
      "metadata": {
        "colab": {
          "base_uri": "https://localhost:8080/"
        },
        "id": "DG4JzBDRMn6E",
        "outputId": "efc6086a-09bd-4539-ba5a-dc0a3e9be42c"
      },
      "outputs": [
        {
          "output_type": "stream",
          "name": "stdout",
          "text": [
            "Bark!\n"
          ]
        }
      ],
      "source": [
        "class Animal:\n",
        "  def speak(self):\n",
        "    print(\"Generic message\")\n",
        "\n",
        "class Dog(Animal):\n",
        "  def speak(self):\n",
        "    print(\"Bark!\")\n",
        "\n",
        "dog = Dog()\n",
        "dog.speak()"
      ]
    },
    {
      "cell_type": "markdown",
      "source": [
        "2. Write a program to create an abstract class Shape with a method area(). Derive classes Circle and Rectangle\n",
        "from it and implement the area() method in both."
      ],
      "metadata": {
        "id": "4kHceMeVM9WB"
      }
    },
    {
      "cell_type": "code",
      "source": [
        "from abc import abstractmethod\n",
        "class Shape:\n",
        "  @abstractmethod\n",
        "  def area(self):\n",
        "    pass\n",
        "\n",
        "class Rectangle(Shape):\n",
        "  def area(self,l,b):\n",
        "    self.len = l\n",
        "    self.breadth =b\n",
        "    return l*b\n",
        "class Circle(Shape):\n",
        "  def area(self,r):\n",
        "    self.r =r\n",
        "    return 3.14*(r**2)"
      ],
      "metadata": {
        "id": "se2_kQI7NCit"
      },
      "execution_count": 6,
      "outputs": []
    },
    {
      "cell_type": "code",
      "source": [
        "cir = Circle()\n",
        "cir.area(4)\n",
        "\n",
        "rec = Rectangle()\n",
        "rec.area(4,4)\n",
        "\n",
        "\n"
      ],
      "metadata": {
        "colab": {
          "base_uri": "https://localhost:8080/"
        },
        "id": "DolQ_cOBN9CN",
        "outputId": "41515ab5-b659-4a38-f7ea-d7a6b4354983"
      },
      "execution_count": 8,
      "outputs": [
        {
          "output_type": "execute_result",
          "data": {
            "text/plain": [
              "16"
            ]
          },
          "metadata": {},
          "execution_count": 8
        }
      ]
    },
    {
      "cell_type": "markdown",
      "source": [
        "3. Implement a multi-level inheritance scenario where a class Vehicle has an attribute type. Derive a class Car\n",
        "and further derive a class ElectricCar that adds a battery attribute."
      ],
      "metadata": {
        "id": "53mvhZ-pORuQ"
      }
    },
    {
      "cell_type": "code",
      "source": [
        "class Vehicle :\n",
        "  def vehi_info(self):\n",
        "    vehicle = \"some vehicle\"\n",
        "    return \"vehicle info\"\n",
        "class Car(Vehicle):\n",
        "  def car_info(self):\n",
        "    return \"Car info\"\n",
        "class ElectricCar(Car):\n",
        "  def battery(self):\n",
        "    battery = 100\n",
        "\n",
        "ec_obj = ElectricCar()\n",
        "ec_obj.vehi_info()\n",
        "\n",
        "c_obj = Car()\n",
        "c_obj.vehi_info()\n"
      ],
      "metadata": {
        "colab": {
          "base_uri": "https://localhost:8080/",
          "height": 35
        },
        "id": "wSkzkVc5OW1U",
        "outputId": "407d4d42-6fb6-4441-938e-d395a9b506b4"
      },
      "execution_count": 14,
      "outputs": [
        {
          "output_type": "execute_result",
          "data": {
            "text/plain": [
              "'vehicle info'"
            ],
            "application/vnd.google.colaboratory.intrinsic+json": {
              "type": "string"
            }
          },
          "metadata": {},
          "execution_count": 14
        }
      ]
    },
    {
      "cell_type": "markdown",
      "source": [
        "4. Demonstrate polymorphism by creating a base class Bird with a method fly(). Create two derived classes\n",
        "Sparrow and Penguin that override the fly() method.\n"
      ],
      "metadata": {
        "id": "FxraNjCMP5K-"
      }
    },
    {
      "cell_type": "code",
      "source": [
        "class Bird:\n",
        "  def fly(self):\n",
        "    return \"Birds fly\"\n",
        "class Sparrow(Bird):\n",
        "  def fly(self):\n",
        "    return \"Sparrows fly\"\n",
        "class Penguin(Bird):\n",
        "  def fly(self):\n",
        "    return \"Penguin dont fly\"\n",
        "\n",
        "peng_obj = Penguin()\n",
        "peng_obj.fly()"
      ],
      "metadata": {
        "colab": {
          "base_uri": "https://localhost:8080/",
          "height": 35
        },
        "id": "VeVpK6ThQA76",
        "outputId": "0bc7ebf1-0b92-494d-d591-61253086d84f"
      },
      "execution_count": 19,
      "outputs": [
        {
          "output_type": "execute_result",
          "data": {
            "text/plain": [
              "'Penguin dont fly'"
            ],
            "application/vnd.google.colaboratory.intrinsic+json": {
              "type": "string"
            }
          },
          "metadata": {},
          "execution_count": 19
        }
      ]
    },
    {
      "cell_type": "markdown",
      "source": [
        "5. Write a program to demonstrate encapsulation by creating a class BankAccount with private attributes\n",
        "balance and methods to deposit, withdraw, and check balance."
      ],
      "metadata": {
        "id": "hldQyoa5Q0ZT"
      }
    },
    {
      "cell_type": "code",
      "source": [
        "class BankAccount:\n",
        "  def __init__(self) -> None:\n",
        "    self.__balance = 0\n",
        "  def deposit(self,amount_deposited):\n",
        "    print(\"the amount deposited is\",amount_deposited)\n",
        "    self.__balance = self.__balance +  amount_deposited\n",
        "  def withdraw(self, amount_withdrawn):\n",
        "    if amount_withdrawn>self.__balance:\n",
        "      print(\"insufficent balance , please check the funds\")\n",
        "    else:\n",
        "      print(\"Amount withdrawn is \", amount_withdrawn)\n",
        "      self.__balance = self.__balance - amount_withdrawn\n",
        "  def check_balance(self):\n",
        "    return self.__balance"
      ],
      "metadata": {
        "id": "dANnJhwTQAVi"
      },
      "execution_count": 26,
      "outputs": []
    },
    {
      "cell_type": "code",
      "source": [
        "cust1=BankAccount()\n",
        "cust1._BankAccount__balance\n",
        "cust1.deposit(100000)\n",
        "\n",
        "cust1.check_balance()\n",
        "\n",
        "cust1.withdraw(10000)\n",
        "cust1.check_balance()\n"
      ],
      "metadata": {
        "colab": {
          "base_uri": "https://localhost:8080/"
        },
        "id": "jfQN1cm1P-HP",
        "outputId": "fdc308ce-1839-423f-fec6-302581b76ad9"
      },
      "execution_count": 30,
      "outputs": [
        {
          "output_type": "stream",
          "name": "stdout",
          "text": [
            "the amount deposited is 100000\n",
            "Amount withdrawn is  10000\n"
          ]
        },
        {
          "output_type": "execute_result",
          "data": {
            "text/plain": [
              "90000"
            ]
          },
          "metadata": {},
          "execution_count": 30
        }
      ]
    },
    {
      "cell_type": "markdown",
      "source": [
        "6. Demonstrate runtime polymorphism using a method play() in a base class Instrument. Derive classes Guitar\n",
        "and Piano that implement their own version of play()."
      ],
      "metadata": {
        "id": "FU7FQw8EZx24"
      }
    },
    {
      "cell_type": "code",
      "source": [
        "class Instrument:\n",
        "  def play(self):\n",
        "    pass\n",
        "class Guitar(Instrument):\n",
        "  def play(self):\n",
        "    return \"Guitar is playing\"\n",
        "class Piano(Instrument):\n",
        "  def play(self):\n",
        "    return \"Piano is playing\"\n",
        "\n",
        "guitar = Guitar()\n",
        "guitar.play()\n",
        "\n",
        "piano = Piano()\n",
        "piano.play()\n"
      ],
      "metadata": {
        "colab": {
          "base_uri": "https://localhost:8080/",
          "height": 35
        },
        "id": "ZPzqqohTagrF",
        "outputId": "56e8455b-2a7b-404b-b495-bc728f90dbd9"
      },
      "execution_count": 52,
      "outputs": [
        {
          "output_type": "execute_result",
          "data": {
            "text/plain": [
              "'Piano is playing'"
            ],
            "application/vnd.google.colaboratory.intrinsic+json": {
              "type": "string"
            }
          },
          "metadata": {},
          "execution_count": 52
        }
      ]
    },
    {
      "cell_type": "markdown",
      "source": [
        "7.Create a class MathOperations with a class method add_numbers() to add two numbers and a static\n",
        "method subtract_numbers() to subtract two numbers."
      ],
      "metadata": {
        "id": "M3ZHKeUpahmr"
      }
    },
    {
      "cell_type": "code",
      "source": [
        "class MathOperations:\n",
        "  @classmethod\n",
        "  def add_numbers(cls,x,y):\n",
        "    return x+y\n",
        "\n",
        "  @staticmethod\n",
        "  def subtract_numbers(x,y):\n",
        "    return x-y"
      ],
      "metadata": {
        "id": "2OGd0_d4at3r"
      },
      "execution_count": 33,
      "outputs": []
    },
    {
      "cell_type": "code",
      "source": [
        "MathOperations.add_numbers(2,3)\n",
        "MathOperations.subtract_numbers(10,1)"
      ],
      "metadata": {
        "colab": {
          "base_uri": "https://localhost:8080/"
        },
        "id": "VEZurQpZbRjU",
        "outputId": "7113dcc5-f844-43bd-a704-557b26a079e0"
      },
      "execution_count": 35,
      "outputs": [
        {
          "output_type": "execute_result",
          "data": {
            "text/plain": [
              "9"
            ]
          },
          "metadata": {},
          "execution_count": 35
        }
      ]
    },
    {
      "cell_type": "markdown",
      "source": [
        "8. Implement a class Person with a class method to count the total number of persons created."
      ],
      "metadata": {
        "id": "EGwi6vOabnZP"
      }
    },
    {
      "cell_type": "code",
      "source": [
        "class Person:\n",
        "  total_person = 0\n",
        "  def __init__(self,person):\n",
        "    self.person = person\n",
        "    Person.total_person = Person.total_person+1\n",
        "  @classmethod\n",
        "  def count_persons(cls):\n",
        "    return cls.total_person\n",
        "\n",
        "per1 = Person(\"ajay\")\n",
        "per1.person\n",
        "per1.count_persons()\n",
        "per2 = Person(\"Bijay\")\n",
        "per3 = Person(\"Jay\")\n",
        "per3.person\n",
        "\n",
        "per3.count_persons()\n",
        "\n",
        ""
      ],
      "metadata": {
        "colab": {
          "base_uri": "https://localhost:8080/"
        },
        "id": "KfGm1ET9brjo",
        "outputId": "4f51cdba-1672-4526-cf0d-f759b81e0080"
      },
      "execution_count": 47,
      "outputs": [
        {
          "output_type": "execute_result",
          "data": {
            "text/plain": [
              "3"
            ]
          },
          "metadata": {},
          "execution_count": 47
        }
      ]
    },
    {
      "cell_type": "markdown",
      "source": [
        "9. Write a class Fraction with attributes numerator and denominator. Override the str method to display the\n",
        "fraction as \"numerator/denominator\"."
      ],
      "metadata": {
        "id": "I_kfht3Zkh3i"
      }
    },
    {
      "cell_type": "markdown",
      "source": [],
      "metadata": {
        "id": "pBVMpsmVd5S3"
      }
    },
    {
      "cell_type": "code",
      "source": [
        "class Fraction:\n",
        "  def __init__(self,numerator,denominator):\n",
        "    self.numerator = numerator\n",
        "    self.denominator = denominator\n",
        "  def __str__(self):\n",
        "    return f\"{self.numerator}/{self.denominator}\"\n",
        "\n",
        "obj1 = Fraction(2,3)\n",
        "print(obj1)"
      ],
      "metadata": {
        "colab": {
          "base_uri": "https://localhost:8080/"
        },
        "id": "Lfz5gS3tkjIb",
        "outputId": "aa4bf228-2950-456a-944a-f54a7b4c2d4c"
      },
      "execution_count": 54,
      "outputs": [
        {
          "output_type": "stream",
          "name": "stdout",
          "text": [
            "2/3\n"
          ]
        }
      ]
    },
    {
      "cell_type": "markdown",
      "source": [
        "10. Demonstrate operator overloading by creating a class Vector and overriding the add method to add two\n",
        "vectors."
      ],
      "metadata": {
        "id": "ks09WlCrkwtd"
      }
    },
    {
      "cell_type": "code",
      "source": [
        "class Vector:\n",
        "  def __init__(self,x,y):\n",
        "    self.x = x\n",
        "    self.y = y\n",
        "  def __add__(self,other):\n",
        "    return Vector(self.x+other.x,self.y+other.y)\n",
        "\n",
        "v1 = Vector([1,2],[2,3])\n",
        "v2 = Vector([3,4],[5,6])\n",
        "\n",
        "v3 = v1+v2\n",
        "print(v1.x,v1.y)\n",
        "print(v2.x,v2.y)\n",
        "print(v3.x,v3.y)\n",
        "\n"
      ],
      "metadata": {
        "colab": {
          "base_uri": "https://localhost:8080/"
        },
        "id": "HZISbWgak10R",
        "outputId": "e4d5f77a-517e-41e3-955c-ca3b9ddc5347"
      },
      "execution_count": 70,
      "outputs": [
        {
          "output_type": "stream",
          "name": "stdout",
          "text": [
            "[1, 2] [2, 3]\n",
            "[3, 4] [5, 6]\n",
            "[1, 2, 3, 4] [2, 3, 5, 6]\n"
          ]
        }
      ]
    },
    {
      "cell_type": "markdown",
      "source": [
        "11. Create a class Person with attributes name and age. Add a method greet() that prints \"Hello, my name is\n",
        "{name} and I am {age} years old.\""
      ],
      "metadata": {
        "id": "91wbnycdx5v4"
      }
    },
    {
      "cell_type": "code",
      "source": [
        "class Person:\n",
        "  def __init__(self,name,age):\n",
        "    self.name = name\n",
        "    self.age = age\n",
        "\n",
        "\n",
        "  def greet(self):\n",
        "    return f\"Hello, my name is {self.name} and I am {self.age} years old.\"\n",
        "\n",
        "obj1 = Person('pinky',25)\n",
        "obj1.greet()"
      ],
      "metadata": {
        "colab": {
          "base_uri": "https://localhost:8080/",
          "height": 35
        },
        "id": "edJSrXmh9B42",
        "outputId": "76c00f8d-0ae3-4461-b0ae-9ffbcf5a8720"
      },
      "execution_count": 5,
      "outputs": [
        {
          "output_type": "execute_result",
          "data": {
            "text/plain": [
              "'Hello, my name is pinky and I am 25 years old.'"
            ],
            "application/vnd.google.colaboratory.intrinsic+json": {
              "type": "string"
            }
          },
          "metadata": {},
          "execution_count": 5
        }
      ]
    },
    {
      "cell_type": "markdown",
      "source": [
        "12. Implement a class Student with attributes name and grades. Create a method average_grade() to compute\n",
        "the average of the grades."
      ],
      "metadata": {
        "id": "orY-XA74ySqw"
      }
    },
    {
      "cell_type": "code",
      "source": [
        "class Student:\n",
        "  def __init__(self,name,grades):\n",
        "    self.name = name\n",
        "    self.grades = grades\n",
        "  def average_grade(self):\n",
        "    return sum(self.grades)/len(self.grades)\n",
        "\n",
        "\n",
        "st = Student(\"ajay\",[1,2,3,4,5])\n",
        "st.average_grade()\n"
      ],
      "metadata": {
        "colab": {
          "base_uri": "https://localhost:8080/"
        },
        "id": "H0u9XS6tyN4o",
        "outputId": "344fb789-4b40-4521-e966-560048f20b3b"
      },
      "execution_count": 8,
      "outputs": [
        {
          "output_type": "execute_result",
          "data": {
            "text/plain": [
              "3.0"
            ]
          },
          "metadata": {},
          "execution_count": 8
        }
      ]
    },
    {
      "cell_type": "markdown",
      "source": [
        "13. Create a class Rectangle with methods set_dimensions() to set the dimensions and area() to calculate the\n",
        "area."
      ],
      "metadata": {
        "id": "yQemjsYgzXoh"
      }
    },
    {
      "cell_type": "code",
      "source": [
        "class Rectangle:\n",
        "  def set_dimensions(self,l,b):\n",
        "    self.l = l\n",
        "    self.b = b\n",
        "  def area(self):\n",
        "    return self.l*self.b\n",
        "\n",
        "rec = Rectangle()\n",
        "rec.set_dimensions(2,3)"
      ],
      "metadata": {
        "id": "4rbPqubSzfLz"
      },
      "execution_count": 11,
      "outputs": []
    },
    {
      "cell_type": "markdown",
      "source": [
        "14. Create a class Employee with a method calculate_salary() that computes the salary based on hours worked\n",
        "and hourly rate. Create a derived class Manager that adds a bonus to the salary."
      ],
      "metadata": {
        "id": "qQQ1vu1uzsqu"
      }
    },
    {
      "cell_type": "code",
      "source": [
        "class Employee:\n",
        "  def __init__(self,hours_worked,hourly_rate):\n",
        "    self.hours_worked = hours_worked\n",
        "    self.hourly_rate = hourly_rate\n",
        "\n",
        "  def calculate_salary(self):\n",
        "    return self.hours_worked*self.hourly_rate\n",
        "\n",
        "class Manager(Employee):\n",
        "  def __init__(self,hours_worked,hourly_rate,bonus):\n",
        "    super().__init__(hours_worked,hourly_rate)\n",
        "    self.bonus = bonus\n",
        "  def calculate_salary(self):\n",
        "    return super().calculate_salary()+self.bonus\n",
        "\n",
        "\n",
        "em1 = Employee(5,1000)\n",
        "em1.calculate_salary()\n",
        "\n",
        "man1 = Manager(5,1000,10000)\n",
        "man1.calculate_salary()\n",
        "\n",
        "\n",
        "\n",
        "\n",
        "\n",
        "\n"
      ],
      "metadata": {
        "colab": {
          "base_uri": "https://localhost:8080/"
        },
        "id": "z8-pDHaTz0qx",
        "outputId": "c03c513c-8542-4e11-884a-ef972aa3d3da"
      },
      "execution_count": 18,
      "outputs": [
        {
          "output_type": "execute_result",
          "data": {
            "text/plain": [
              "15000"
            ]
          },
          "metadata": {},
          "execution_count": 18
        }
      ]
    },
    {
      "cell_type": "markdown",
      "source": [
        "15. Create a class Product with attributes name, price, and quantity. Implement a method total_price() that\n",
        "calculates the total price of the product."
      ],
      "metadata": {
        "id": "gELkwfNg1bXR"
      }
    },
    {
      "cell_type": "code",
      "source": [
        "class Product :\n",
        "  def __init__(self,name,price,quantity):\n",
        "    self.name = name\n",
        "    self.price = price\n",
        "    self.quantity = quantity\n",
        "  def total_price(self):\n",
        "    return self.price*self.quantity\n",
        "\n",
        "obj1 = Product(\"pen\",10,2)\n",
        "obj1.total_price()"
      ],
      "metadata": {
        "colab": {
          "base_uri": "https://localhost:8080/"
        },
        "id": "Q_n8tpVX1hKM",
        "outputId": "bc57e82f-2e57-4963-b5eb-5128c3cf1bfd"
      },
      "execution_count": 20,
      "outputs": [
        {
          "output_type": "execute_result",
          "data": {
            "text/plain": [
              "20"
            ]
          },
          "metadata": {},
          "execution_count": 20
        }
      ]
    },
    {
      "cell_type": "markdown",
      "source": [],
      "metadata": {
        "id": "Oo4jNoqi1gpH"
      }
    },
    {
      "cell_type": "markdown",
      "source": [
        "16. Create a class Animal with an abstract method sound(). Create two derived classes Cow and Sheep that\n",
        "implement the sound() method."
      ],
      "metadata": {
        "id": "Kj1O5zVe1xkv"
      }
    },
    {
      "cell_type": "code",
      "source": [
        "from abc import ABC, abstractmethod\n",
        "class Animal:\n",
        "  @abstractmethod\n",
        "  def sound(self):\n",
        "    pass\n",
        "\n",
        "class Cow(Animal):\n",
        "  def sound(self):\n",
        "    return \"this is cow\"\n",
        "class Sheep(Animal):\n",
        "  def sound(self):\n",
        "    return \"this is sheep\"\n",
        "\n",
        "cw1 = Cow()\n",
        "cw1.sound()\n",
        "\n",
        "sh1 = Sheep()\n",
        "sh1.sound()"
      ],
      "metadata": {
        "colab": {
          "base_uri": "https://localhost:8080/",
          "height": 35
        },
        "id": "lf1-WiHCz0j4",
        "outputId": "aba37b1c-9759-4ae9-93e6-7060afed64b7"
      },
      "execution_count": 26,
      "outputs": [
        {
          "output_type": "execute_result",
          "data": {
            "text/plain": [
              "'this is sheep'"
            ],
            "application/vnd.google.colaboratory.intrinsic+json": {
              "type": "string"
            }
          },
          "metadata": {},
          "execution_count": 26
        }
      ]
    },
    {
      "cell_type": "markdown",
      "source": [
        "17. Create a class Book with attributes title, author, and year_published. Add a method get_book_info() that\n",
        "returns a formatted string with the book's details."
      ],
      "metadata": {
        "id": "M5HqeAeK3Uc6"
      }
    },
    {
      "cell_type": "code",
      "source": [
        "class Book:\n",
        "  def __init__(self,title,author,year_published):\n",
        "    self.title = title\n",
        "    self.author = author\n",
        "    self.year_published = year_published\n",
        "  def get_book_info(self):\n",
        "    return f\"{self.title} by {self.author}  published year {self.year_published}\"\n",
        "\n",
        "\n",
        "b1 = Book(\"Atomic habits\",\"James clear\", 1012)\n",
        "b1.get_book_info()\n",
        "\n",
        "\n"
      ],
      "metadata": {
        "colab": {
          "base_uri": "https://localhost:8080/",
          "height": 35
        },
        "id": "YKJ26lGb3Yp0",
        "outputId": "b9c1f808-d4b3-4cd2-c123-0e381e9c94aa"
      },
      "execution_count": 34,
      "outputs": [
        {
          "output_type": "execute_result",
          "data": {
            "text/plain": [
              "'Atomic habits by James clear  published year 1012'"
            ],
            "application/vnd.google.colaboratory.intrinsic+json": {
              "type": "string"
            }
          },
          "metadata": {},
          "execution_count": 34
        }
      ]
    },
    {
      "cell_type": "markdown",
      "source": [
        "18. Create a class House with attributes address and price. Create a derived class Mansion that adds an\n",
        "attribute number_of_rooms."
      ],
      "metadata": {
        "id": "OizN3oop5OZ1"
      }
    },
    {
      "cell_type": "code",
      "source": [
        "class House:\n",
        "  def __init__(self,address,price):\n",
        "    self.address = address\n",
        "    self.price = price\n",
        "class Mansion(House):\n",
        "  def __init__(self,address,price,number_of_rooms):\n",
        "    super().__init__(address,price)\n",
        "    self.number_of_rooms = number_of_rooms\n",
        "\n",
        "\n",
        "hi = House(\"Hyd\",2000)\n",
        "hi.address\n",
        "\n",
        "mi = Mansion(\"Hyd\",2000,5)\n",
        "mi.number_of_rooms\n",
        "\n",
        ""
      ],
      "metadata": {
        "colab": {
          "base_uri": "https://localhost:8080/"
        },
        "id": "E24eNzAY5RU8",
        "outputId": "0c43e6e7-478d-447c-fd05-3ec796ffc689"
      },
      "execution_count": 55,
      "outputs": [
        {
          "output_type": "execute_result",
          "data": {
            "text/plain": [
              "5"
            ]
          },
          "metadata": {},
          "execution_count": 55
        }
      ]
    }
  ]
}